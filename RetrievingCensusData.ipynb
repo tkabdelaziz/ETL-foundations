{
 "cells": [
  {
   "cell_type": "code",
   "execution_count": 1,
   "metadata": {},
   "outputs": [
    {
     "name": "stdout",
     "output_type": "stream",
     "text": [
      "Requirement already satisfied: census in c:\\users\\dunda\\anaconda3\\envs\\pythondata\\lib\\site-packages (0.8.13)\n",
      "Requirement already satisfied: requests>=1.1.0 in c:\\users\\dunda\\anaconda3\\envs\\pythondata\\lib\\site-packages (from census) (2.22.0)\n",
      "Requirement already satisfied: future in c:\\users\\dunda\\anaconda3\\envs\\pythondata\\lib\\site-packages (from census) (0.18.0)\n",
      "Requirement already satisfied: idna<2.9,>=2.5 in c:\\users\\dunda\\anaconda3\\envs\\pythondata\\lib\\site-packages (from requests>=1.1.0->census) (2.8)\n",
      "Requirement already satisfied: certifi>=2017.4.17 in c:\\users\\dunda\\anaconda3\\envs\\pythondata\\lib\\site-packages (from requests>=1.1.0->census) (2019.6.16)\n",
      "Requirement already satisfied: chardet<3.1.0,>=3.0.2 in c:\\users\\dunda\\anaconda3\\envs\\pythondata\\lib\\site-packages (from requests>=1.1.0->census) (3.0.4)\n",
      "Requirement already satisfied: urllib3!=1.25.0,!=1.25.1,<1.26,>=1.21.1 in c:\\users\\dunda\\anaconda3\\envs\\pythondata\\lib\\site-packages (from requests>=1.1.0->census) (1.24.2)\n"
     ]
    }
   ],
   "source": [
    "!pip install census"
   ]
  },
  {
   "cell_type": "code",
   "execution_count": 2,
   "metadata": {},
   "outputs": [],
   "source": [
    "import pandas as pd\n",
    "import requests\n",
    "from census import Census"
   ]
  },
  {
   "cell_type": "code",
   "execution_count": 3,
   "metadata": {},
   "outputs": [],
   "source": [
    "api_key = \"85ac64b6b5a9c0901b00329d1ef41f0c53ccfc98\"\n",
    "\n",
    "c_2017 = Census(api_key, year=2017)"
   ]
  },
  {
   "cell_type": "code",
   "execution_count": 4,
   "metadata": {},
   "outputs": [],
   "source": [
    "cd_2017 = c_2017.acs5.get((\"B19013_001E\", \"B01003_001E\", \"B01002_001E\",\"B19301_001E\"),\n",
    "                          {'for': 'zip code tabulation area:*'})"
   ]
  },
  {
   "cell_type": "code",
   "execution_count": 5,
   "metadata": {},
   "outputs": [],
   "source": [
    "census_df_2017 = pd.DataFrame(cd_2017)"
   ]
  },
  {
   "cell_type": "code",
   "execution_count": 6,
   "metadata": {},
   "outputs": [],
   "source": [
    "census_df_2017 = census_df_2017.rename(columns={\"B01003_001E\": \"Population\",\"B01002_001E\": \"Median Age\",\n",
    "                                                \"B19013_001E\": \"Household Income\",\"B19301_001E\": \"Per Capita Income\",\n",
    "                                                \"zip code tabulation area\": \"Zipcode\"})"
   ]
  },
  {
   "cell_type": "code",
   "execution_count": 7,
   "metadata": {},
   "outputs": [],
   "source": [
    "census_df_2017[\"Zipcode\"] = census_df_2017[\"Zipcode\"].astype(int)"
   ]
  },
  {
   "cell_type": "code",
   "execution_count": 8,
   "metadata": {},
   "outputs": [
    {
     "data": {
      "text/plain": [
       "Median Age           float64\n",
       "Population           float64\n",
       "Household Income     float64\n",
       "Per Capita Income    float64\n",
       "Zipcode                int32\n",
       "dtype: object"
      ]
     },
     "execution_count": 8,
     "metadata": {},
     "output_type": "execute_result"
    }
   ],
   "source": [
    "census_df_2017.dtypes"
   ]
  },
  {
   "cell_type": "code",
   "execution_count": 9,
   "metadata": {},
   "outputs": [
    {
     "data": {
      "text/html": [
       "<div>\n",
       "<style scoped>\n",
       "    .dataframe tbody tr th:only-of-type {\n",
       "        vertical-align: middle;\n",
       "    }\n",
       "\n",
       "    .dataframe tbody tr th {\n",
       "        vertical-align: top;\n",
       "    }\n",
       "\n",
       "    .dataframe thead th {\n",
       "        text-align: right;\n",
       "    }\n",
       "</style>\n",
       "<table border=\"1\" class=\"dataframe\">\n",
       "  <thead>\n",
       "    <tr style=\"text-align: right;\">\n",
       "      <th></th>\n",
       "      <th>Median Age</th>\n",
       "      <th>Population</th>\n",
       "      <th>Household Income</th>\n",
       "      <th>Per Capita Income</th>\n",
       "      <th>Zipcode</th>\n",
       "    </tr>\n",
       "  </thead>\n",
       "  <tbody>\n",
       "    <tr>\n",
       "      <th>33115</th>\n",
       "      <td>-666666666.0</td>\n",
       "      <td>0.0</td>\n",
       "      <td>-666666666.0</td>\n",
       "      <td>-666666666.0</td>\n",
       "      <td>99923</td>\n",
       "    </tr>\n",
       "    <tr>\n",
       "      <th>33116</th>\n",
       "      <td>45.1</td>\n",
       "      <td>901.0</td>\n",
       "      <td>48646.0</td>\n",
       "      <td>24783.0</td>\n",
       "      <td>99925</td>\n",
       "    </tr>\n",
       "    <tr>\n",
       "      <th>33117</th>\n",
       "      <td>32.8</td>\n",
       "      <td>1684.0</td>\n",
       "      <td>57969.0</td>\n",
       "      <td>22927.0</td>\n",
       "      <td>99926</td>\n",
       "    </tr>\n",
       "    <tr>\n",
       "      <th>33118</th>\n",
       "      <td>49.8</td>\n",
       "      <td>59.0</td>\n",
       "      <td>17981.0</td>\n",
       "      <td>11959.0</td>\n",
       "      <td>99927</td>\n",
       "    </tr>\n",
       "    <tr>\n",
       "      <th>33119</th>\n",
       "      <td>49.0</td>\n",
       "      <td>2455.0</td>\n",
       "      <td>55742.0</td>\n",
       "      <td>29861.0</td>\n",
       "      <td>99929</td>\n",
       "    </tr>\n",
       "  </tbody>\n",
       "</table>\n",
       "</div>"
      ],
      "text/plain": [
       "        Median Age  Population  Household Income  Per Capita Income  Zipcode\n",
       "33115 -666666666.0         0.0      -666666666.0       -666666666.0    99923\n",
       "33116         45.1       901.0           48646.0            24783.0    99925\n",
       "33117         32.8      1684.0           57969.0            22927.0    99926\n",
       "33118         49.8        59.0           17981.0            11959.0    99927\n",
       "33119         49.0      2455.0           55742.0            29861.0    99929"
      ]
     },
     "execution_count": 9,
     "metadata": {},
     "output_type": "execute_result"
    }
   ],
   "source": [
    "census_df_2017.tail()"
   ]
  },
  {
   "cell_type": "code",
   "execution_count": 10,
   "metadata": {},
   "outputs": [],
   "source": [
    "austin_zipcodes = [78741,78753,78701,78758,78704,78702,78745,78744,78723,78752,78748,78751,78759,78757,78705,78721,\n",
    "                   78724,78749,78703,78727,78746,78731,78729,78750,78754,78722,78617,78756,78735,78719,78747,78717,\n",
    "                   78726,78613,78660,78739,78736,78725,78742,78730,78653,78728,78652,78712,78732,78733,78737,78610,78734]"
   ]
  },
  {
   "cell_type": "code",
   "execution_count": 11,
   "metadata": {},
   "outputs": [],
   "source": [
    "median_age = [] \n",
    "population = [] \n",
    "household_income = []\n",
    "per_capita_income = []\n",
    "zipcode_ = []\n",
    "\n",
    "for index,row in census_df_2017.iterrows():\n",
    "    if row[\"Zipcode\"] in austin_zipcodes:\n",
    "        median_age.append(row[0])\n",
    "        population.append(row[1]) \n",
    "        household_income.append(row[2])\n",
    "        per_capita_income.append(row[3])\n",
    "        zipcode_.append(row[4])\n",
    "\n",
    "dictionary = {'Median Age':median_age,\n",
    "              'Population':population, \n",
    "              'Household Income':household_income,\n",
    "              'Per Capita Income':per_capita_income,\n",
    "              'Zipcode':zipcode_}\n",
    "\n",
    "austin_census_df = pd.DataFrame(dictionary)"
   ]
  },
  {
   "cell_type": "code",
   "execution_count": 12,
   "metadata": {},
   "outputs": [],
   "source": [
    "austin_census_df\n",
    "austin_census_df.to_csv(\"./CensusData.csv\")"
   ]
  },
  {
   "cell_type": "code",
   "execution_count": null,
   "metadata": {},
   "outputs": [],
   "source": []
  }
 ],
 "metadata": {
  "kernelspec": {
   "display_name": "Conda [PythonData]",
   "language": "python",
   "name": "pythondata"
  },
  "language_info": {
   "codemirror_mode": {
    "name": "ipython",
    "version": 3
   },
   "file_extension": ".py",
   "mimetype": "text/x-python",
   "name": "python",
   "nbconvert_exporter": "python",
   "pygments_lexer": "ipython3",
   "version": "3.7.3"
  }
 },
 "nbformat": 4,
 "nbformat_minor": 2
}
